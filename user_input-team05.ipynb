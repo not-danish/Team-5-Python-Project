{
 "cells": [
  {
   "cell_type": "code",
   "execution_count": 1,
   "id": "0dbcda76-07ca-43f6-be04-07b06e933dfe",
   "metadata": {},
   "outputs": [
    {
     "name": "stdout",
     "output_type": "stream",
     "text": [
      "User(Yuyan, 4 people, Prefers: mountain, Budget: (100, 200), Dates: ('2025-07-01', '2025-07-07'))\n"
     ]
    }
   ],
   "source": [
    "# user.py\n",
    "import uuid  # to generate a unique user_id\n",
    "\n",
    "class User:\n",
    "    def __init__(self, name, group_size, preferred_environment, budget_range, travel_dates=None):\n",
    "        self.user_id = str(uuid.uuid4())  # unique ID for each user\n",
    "        self.name = name\n",
    "        self.group_size = group_size\n",
    "        self.preferred_environment = preferred_environment  # e.g., \"beach\", \"mountain\"\n",
    "        self.budget_range = budget_range  # (min_budget, max_budget)\n",
    "        self.travel_dates = travel_dates  # tuple (start_date, end_date) or None\n",
    "\n",
    "    def __repr__(self):\n",
    "        return (f\"User({self.name}, {self.group_size} people, \"\n",
    "                f\"Prefers: {self.preferred_environment}, \"\n",
    "                f\"Budget: {self.budget_range}, Dates: {self.travel_dates})\")\n",
    "\n",
    "\n",
    "# Test creating a user\n",
    "if __name__ == \"__main__\":\n",
    "    test_user = User(\n",
    "        name=\"Yuyan\",\n",
    "        group_size=4,\n",
    "        preferred_environment=\"mountain\",\n",
    "        budget_range=(100, 200),\n",
    "        travel_dates=(\"2025-07-01\", \"2025-07-07\")\n",
    "    )\n",
    "    print(test_user)"
   ]
  },
  {
   "cell_type": "code",
   "execution_count": null,
   "id": "6d059bcb-74cf-4563-ae6d-13a955408829",
   "metadata": {},
   "outputs": [],
   "source": []
  }
 ],
 "metadata": {
  "kernelspec": {
   "display_name": "Python 3",
   "language": "python",
   "name": "python3"
  },
  "language_info": {
   "codemirror_mode": {
    "name": "ipython",
    "version": 3
   },
   "file_extension": ".py",
   "mimetype": "text/x-python",
   "name": "python",
   "nbconvert_exporter": "python",
   "pygments_lexer": "ipython3",
   "version": "3.13.6"
  }
 },
 "nbformat": 4,
 "nbformat_minor": 5
}
